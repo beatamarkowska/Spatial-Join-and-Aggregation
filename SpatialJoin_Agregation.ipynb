{
 "cells": [
  {
   "cell_type": "code",
   "execution_count": 1,
   "id": "a7175e9f-95f1-4231-87ff-6f044b51c7bf",
   "metadata": {
    "execution": {
     "iopub.execute_input": "2025-04-24T15:19:28.319534Z",
     "iopub.status.busy": "2025-04-24T15:19:28.319254Z",
     "iopub.status.idle": "2025-04-24T15:19:28.773964Z",
     "shell.execute_reply": "2025-04-24T15:19:28.773461Z",
     "shell.execute_reply.started": "2025-04-24T15:19:28.319513Z"
    }
   },
   "outputs": [],
   "source": [
    "import json\n",
    "import os\n",
    "from sedona.spark import *\n",
    "from pyspark.sql.functions import expr\n",
    "from sedona.core.formatMapper.shapefileParser import ShapefileReader\n",
    "from sedona.utils.adapter import Adapter"
   ]
  },
  {
   "cell_type": "code",
   "execution_count": 2,
   "id": "370e6963-d993-4e6a-8043-52e3f58fa4dd",
   "metadata": {
    "execution": {
     "iopub.execute_input": "2025-04-24T15:19:32.378830Z",
     "iopub.status.busy": "2025-04-24T15:19:32.378612Z",
     "iopub.status.idle": "2025-04-24T15:22:20.305285Z",
     "shell.execute_reply": "2025-04-24T15:22:20.304813Z",
     "shell.execute_reply.started": "2025-04-24T15:19:32.378814Z"
    }
   },
   "outputs": [
    {
     "name": "stderr",
     "output_type": "stream",
     "text": [
      "Setting default log level to \"WARN\".\n",
      "To adjust logging level use sc.setLogLevel(newLevel). For SparkR, use setLogLevel(newLevel).\n",
      "                                                                                \r"
     ]
    }
   ],
   "source": [
    "# Configure SedonaContext, specify credentials for AWS S3 bucket(s) (optional)\n",
    "\n",
    "config = SedonaContext.builder(). \\\n",
    "    config(\"spark.hadoop.fs.s3a.bucket.wherobots-examples.aws.credentials.provider\",\"org.apache.hadoop.fs.s3a.AnonymousAWSCredentialsProvider\"). \\\n",
    "    getOrCreate()\n",
    "\n",
    "sedona = SedonaContext.create(config)"
   ]
  },
  {
   "cell_type": "code",
   "execution_count": 3,
   "id": "5b229ae7-15f6-4f27-8ed7-1766e636b58a",
   "metadata": {
    "execution": {
     "iopub.execute_input": "2025-04-24T15:22:38.426960Z",
     "iopub.status.busy": "2025-04-24T15:22:38.426738Z",
     "iopub.status.idle": "2025-04-24T15:22:38.430569Z",
     "shell.execute_reply": "2025-04-24T15:22:38.429797Z",
     "shell.execute_reply.started": "2025-04-24T15:22:38.426942Z"
    }
   },
   "outputs": [],
   "source": [
    "BB_S3_URL = \"s3://wherobots-examples/data/examples/birdbuddy_oct23.csv\""
   ]
  },
  {
   "cell_type": "code",
   "execution_count": 4,
   "id": "8556e035-6b61-4c6e-bfcc-a013f10dc210",
   "metadata": {
    "execution": {
     "iopub.execute_input": "2025-04-24T15:22:39.167214Z",
     "iopub.status.busy": "2025-04-24T15:22:39.166222Z",
     "iopub.status.idle": "2025-04-24T15:22:44.495009Z",
     "shell.execute_reply": "2025-04-24T15:22:44.494434Z",
     "shell.execute_reply.started": "2025-04-24T15:22:39.167190Z"
    }
   },
   "outputs": [
    {
     "name": "stderr",
     "output_type": "stream",
     "text": [
      "[Stage 4:>                                                          (0 + 1) / 1]\r"
     ]
    },
    {
     "name": "stdout",
     "output_type": "stream",
     "text": [
      "+---+-------------------+--------------------+-----------------------+--------------------+----------------------+\n",
      "|_c0|anonymized_latitude|anonymized_longitude|timestamp              |common_name         |scientific_name       |\n",
      "+---+-------------------+--------------------+-----------------------+--------------------+----------------------+\n",
      "|10 |34.393112          |-118.59075          |2023-10-01 00:00:02.415|california scrub jay|aphelocoma californica|\n",
      "|11 |34.393112          |-118.59075          |2023-10-01 00:00:02.415|california scrub jay|aphelocoma californica|\n",
      "|26 |34.393112          |-118.59075          |2023-10-01 00:00:04.544|california scrub jay|aphelocoma californica|\n",
      "|27 |34.393112          |-118.59075          |2023-10-01 00:00:04.544|california scrub jay|aphelocoma californica|\n",
      "|34 |34.393112          |-118.59075          |2023-10-01 00:00:05.474|california scrub jay|aphelocoma californica|\n",
      "+---+-------------------+--------------------+-----------------------+--------------------+----------------------+\n",
      "only showing top 5 rows\n",
      "\n"
     ]
    },
    {
     "name": "stderr",
     "output_type": "stream",
     "text": [
      "                                                                                \r"
     ]
    }
   ],
   "source": [
    "bb_df = sedona.read.format('csv').option('header','true').option('delimiter', ',').load(BB_S3_URL)\n",
    "bb_df.show(5, truncate=False)"
   ]
  },
  {
   "cell_type": "code",
   "execution_count": 5,
   "id": "1be9a92f-0f04-430b-a153-9ac3e61dd260",
   "metadata": {
    "execution": {
     "iopub.execute_input": "2025-04-24T15:22:48.207759Z",
     "iopub.status.busy": "2025-04-24T15:22:48.207517Z",
     "iopub.status.idle": "2025-04-24T15:22:48.212185Z",
     "shell.execute_reply": "2025-04-24T15:22:48.211698Z",
     "shell.execute_reply.started": "2025-04-24T15:22:48.207743Z"
    }
   },
   "outputs": [
    {
     "name": "stdout",
     "output_type": "stream",
     "text": [
      "root\n",
      " |-- _c0: string (nullable = true)\n",
      " |-- anonymized_latitude: string (nullable = true)\n",
      " |-- anonymized_longitude: string (nullable = true)\n",
      " |-- timestamp: string (nullable = true)\n",
      " |-- common_name: string (nullable = true)\n",
      " |-- scientific_name: string (nullable = true)\n",
      "\n"
     ]
    }
   ],
   "source": [
    "bb_df.printSchema()"
   ]
  },
  {
   "cell_type": "markdown",
   "id": "957956f6-7c90-444c-87fc-9808d9a9b564",
   "metadata": {},
   "source": [
    "🔹 ST_Point(CAST(anonymized_longitude AS float), CAST(anonymized_latitude AS float)) AS location\n",
    "Creates a location column of type geographic point (geometry).\n",
    "\n",
    "anonymized_longitude and anonymized_latitude are cast to float to match the format expected by ST_Point (Sedona's spatial function).\n",
    "\n",
    "The result is a new location column containing POINT(lon lat) objects.\n",
    "\n",
    "🔹 CAST(timestamp AS timestamp) AS timestamp\n",
    "Casts a timestamp column from a text (or other) format to a real timestamp type that Spark understands for timing operations."
   ]
  },
  {
   "cell_type": "code",
   "execution_count": 6,
   "id": "520b965b-fdd5-424f-8ae3-f8b4ba471f80",
   "metadata": {
    "execution": {
     "iopub.execute_input": "2025-04-24T15:22:53.966586Z",
     "iopub.status.busy": "2025-04-24T15:22:53.966379Z",
     "iopub.status.idle": "2025-04-24T15:22:55.614672Z",
     "shell.execute_reply": "2025-04-24T15:22:55.614095Z",
     "shell.execute_reply.started": "2025-04-24T15:22:53.966572Z"
    }
   },
   "outputs": [
    {
     "name": "stderr",
     "output_type": "stream",
     "text": [
      "[Stage 5:>                                                          (0 + 1) / 1]\r"
     ]
    },
    {
     "name": "stdout",
     "output_type": "stream",
     "text": [
      "+---------------------------------------------+-----------------------+--------------------+----------------------+\n",
      "|location                                     |timestamp              |common_name         |scientific_name       |\n",
      "+---------------------------------------------+-----------------------+--------------------+----------------------+\n",
      "|POINT (-118.59075164794922 34.39311218261719)|2023-10-01 00:00:02.415|california scrub jay|aphelocoma californica|\n",
      "|POINT (-118.59075164794922 34.39311218261719)|2023-10-01 00:00:02.415|california scrub jay|aphelocoma californica|\n",
      "|POINT (-118.59075164794922 34.39311218261719)|2023-10-01 00:00:04.544|california scrub jay|aphelocoma californica|\n",
      "|POINT (-118.59075164794922 34.39311218261719)|2023-10-01 00:00:04.544|california scrub jay|aphelocoma californica|\n",
      "|POINT (-118.59075164794922 34.39311218261719)|2023-10-01 00:00:05.474|california scrub jay|aphelocoma californica|\n",
      "|POINT (-118.59075164794922 34.39311218261719)|2023-10-01 00:00:05.474|california scrub jay|aphelocoma californica|\n",
      "|POINT (-118.59075164794922 34.39311218261719)|2023-10-01 00:00:05.487|california scrub jay|aphelocoma californica|\n",
      "|POINT (-118.59075164794922 34.39311218261719)|2023-10-01 00:00:05.487|california scrub jay|aphelocoma californica|\n",
      "|POINT (-120.55419921875 43.804134368896484)  |2023-10-01 00:00:05.931|lesser goldfinch    |spinus psaltria       |\n",
      "|POINT (-120.55419921875 43.804134368896484)  |2023-10-01 00:00:05.931|lesser goldfinch    |spinus psaltria       |\n",
      "|POINT (-120.55419921875 43.804134368896484)  |2023-10-01 00:00:06.522|lesser goldfinch    |spinus psaltria       |\n",
      "|POINT (-120.55419921875 43.804134368896484)  |2023-10-01 00:00:06.522|lesser goldfinch    |spinus psaltria       |\n",
      "|POINT (-120.55419921875 43.804134368896484)  |2023-10-01 00:00:09.113|lesser goldfinch    |spinus psaltria       |\n",
      "|POINT (-120.55419921875 43.804134368896484)  |2023-10-01 00:00:09.113|lesser goldfinch    |spinus psaltria       |\n",
      "|POINT (-118.59075164794922 34.39311218261719)|2023-10-01 00:00:09.434|california scrub jay|aphelocoma californica|\n",
      "+---------------------------------------------+-----------------------+--------------------+----------------------+\n",
      "only showing top 15 rows\n",
      "\n"
     ]
    },
    {
     "name": "stderr",
     "output_type": "stream",
     "text": [
      "                                                                                \r"
     ]
    }
   ],
   "source": [
    "bb_df = bb_df.selectExpr('ST_Point(CAST(anonymized_longitude AS float), CAST(anonymized_latitude AS float)) AS location', 'CAST(timestamp AS timestamp) AS timestamp', 'common_name', 'scientific_name')\n",
    "bb_df.createOrReplaceTempView('bb')\n",
    "bb_df.show(15, truncate=False)"
   ]
  },
  {
   "cell_type": "code",
   "execution_count": 7,
   "id": "d40c7347-b914-45ce-b647-45384a91a65d",
   "metadata": {
    "execution": {
     "iopub.execute_input": "2025-04-24T15:23:00.207027Z",
     "iopub.status.busy": "2025-04-24T15:23:00.206737Z",
     "iopub.status.idle": "2025-04-24T15:23:00.210638Z",
     "shell.execute_reply": "2025-04-24T15:23:00.210120Z",
     "shell.execute_reply.started": "2025-04-24T15:23:00.207010Z"
    }
   },
   "outputs": [
    {
     "name": "stdout",
     "output_type": "stream",
     "text": [
      "root\n",
      " |-- location: geometry (nullable = true)\n",
      " |-- timestamp: timestamp (nullable = true)\n",
      " |-- common_name: string (nullable = true)\n",
      " |-- scientific_name: string (nullable = true)\n",
      "\n"
     ]
    }
   ],
   "source": [
    "bb_df.printSchema()"
   ]
  },
  {
   "cell_type": "code",
   "execution_count": 8,
   "id": "a8857b92-8a94-488e-a5e0-c4199e1d0c09",
   "metadata": {
    "execution": {
     "iopub.execute_input": "2025-04-24T15:23:04.397551Z",
     "iopub.status.busy": "2025-04-24T15:23:04.397305Z",
     "iopub.status.idle": "2025-04-24T15:23:08.452712Z",
     "shell.execute_reply": "2025-04-24T15:23:08.452024Z",
     "shell.execute_reply.started": "2025-04-24T15:23:04.397535Z"
    }
   },
   "outputs": [
    {
     "name": "stderr",
     "output_type": "stream",
     "text": [
      "                                                                                \r"
     ]
    },
    {
     "data": {
      "text/plain": [
       "9502150"
      ]
     },
     "execution_count": 8,
     "metadata": {},
     "output_type": "execute_result"
    }
   ],
   "source": [
    "bb_df.count()"
   ]
  },
  {
   "cell_type": "code",
   "execution_count": 10,
   "id": "d0458389-6445-4da5-9cb1-855064373395",
   "metadata": {
    "execution": {
     "iopub.execute_input": "2025-04-24T15:23:17.015731Z",
     "iopub.status.busy": "2025-04-24T15:23:17.015533Z",
     "iopub.status.idle": "2025-04-24T15:23:17.018100Z",
     "shell.execute_reply": "2025-04-24T15:23:17.017763Z",
     "shell.execute_reply.started": "2025-04-24T15:23:17.015718Z"
    }
   },
   "outputs": [],
   "source": [
    "S3_NE_ADMIN1_URL = \"s3://wherobots-examples/data/ne_10m_admin_1_states_provinces/\""
   ]
  },
  {
   "cell_type": "markdown",
   "id": "e9e4e496-52bb-4d93-94d3-6a35e48040a2",
   "metadata": {},
   "source": [
    "Load spatial data from a shapefile and transform it into a Spark DataFrame ready for SQL queries.\n",
    "🔹 spatialRDD = ShapefileReader.readToGeometryRDD(sedona, S3_NE_ADMIN1_URL)\n",
    "Loads a shapefile from location S3_NE_ADMIN1_URL.\n",
    "\n",
    "Creates a GeometryRDD — a distributed set of geometric data (e.g. administrative boundaries, regions, etc.).\n",
    "\n",
    "🔹 admin_df = Adapter.toDf(spatialRDD, sedona)\n",
    "Converts a GeometryRDD to a Spark DataFrame.\n",
    "\n",
    "Allows further processing of data in Spark SQL style (i.e. queries, filters, joins)."
   ]
  },
  {
   "cell_type": "code",
   "execution_count": 11,
   "id": "4c76632e-8948-4c7b-ada2-9c491c82351f",
   "metadata": {
    "execution": {
     "iopub.execute_input": "2025-04-24T15:23:20.062942Z",
     "iopub.status.busy": "2025-04-24T15:23:20.062732Z",
     "iopub.status.idle": "2025-04-24T15:23:20.679061Z",
     "shell.execute_reply": "2025-04-24T15:23:20.678731Z",
     "shell.execute_reply.started": "2025-04-24T15:23:20.062927Z"
    }
   },
   "outputs": [
    {
     "name": "stdout",
     "output_type": "stream",
     "text": [
      "root\n",
      " |-- geometry: geometry (nullable = true)\n",
      " |-- featurecla: string (nullable = true)\n",
      " |-- scalerank: string (nullable = true)\n",
      " |-- adm1_code: string (nullable = true)\n",
      " |-- diss_me: string (nullable = true)\n",
      " |-- iso_3166_2: string (nullable = true)\n",
      " |-- wikipedia: string (nullable = true)\n",
      " |-- iso_a2: string (nullable = true)\n",
      " |-- adm0_sr: string (nullable = true)\n",
      " |-- name: string (nullable = true)\n",
      " |-- name_alt: string (nullable = true)\n",
      " |-- name_local: string (nullable = true)\n",
      " |-- type: string (nullable = true)\n",
      " |-- type_en: string (nullable = true)\n",
      " |-- code_local: string (nullable = true)\n",
      " |-- code_hasc: string (nullable = true)\n",
      " |-- note: string (nullable = true)\n",
      " |-- hasc_maybe: string (nullable = true)\n",
      " |-- region: string (nullable = true)\n",
      " |-- region_cod: string (nullable = true)\n",
      " |-- provnum_ne: string (nullable = true)\n",
      " |-- gadm_level: string (nullable = true)\n",
      " |-- check_me: string (nullable = true)\n",
      " |-- datarank: string (nullable = true)\n",
      " |-- abbrev: string (nullable = true)\n",
      " |-- postal: string (nullable = true)\n",
      " |-- area_sqkm: string (nullable = true)\n",
      " |-- sameascity: string (nullable = true)\n",
      " |-- labelrank: string (nullable = true)\n",
      " |-- name_len: string (nullable = true)\n",
      " |-- mapcolor9: string (nullable = true)\n",
      " |-- mapcolor13: string (nullable = true)\n",
      " |-- fips: string (nullable = true)\n",
      " |-- fips_alt: string (nullable = true)\n",
      " |-- woe_id: string (nullable = true)\n",
      " |-- woe_label: string (nullable = true)\n",
      " |-- woe_name: string (nullable = true)\n",
      " |-- latitude: string (nullable = true)\n",
      " |-- longitude: string (nullable = true)\n",
      " |-- sov_a3: string (nullable = true)\n",
      " |-- adm0_a3: string (nullable = true)\n",
      " |-- adm0_label: string (nullable = true)\n",
      " |-- admin: string (nullable = true)\n",
      " |-- geonunit: string (nullable = true)\n",
      " |-- gu_a3: string (nullable = true)\n",
      " |-- gn_id: string (nullable = true)\n",
      " |-- gn_name: string (nullable = true)\n",
      " |-- gns_id: string (nullable = true)\n",
      " |-- gns_name: string (nullable = true)\n",
      " |-- gn_level: string (nullable = true)\n",
      " |-- gn_region: string (nullable = true)\n",
      " |-- gn_a1_code: string (nullable = true)\n",
      " |-- region_sub: string (nullable = true)\n",
      " |-- sub_code: string (nullable = true)\n",
      " |-- gns_level: string (nullable = true)\n",
      " |-- gns_lang: string (nullable = true)\n",
      " |-- gns_adm1: string (nullable = true)\n",
      " |-- gns_region: string (nullable = true)\n",
      " |-- min_label: string (nullable = true)\n",
      " |-- max_label: string (nullable = true)\n",
      " |-- min_zoom: string (nullable = true)\n",
      " |-- wikidataid: string (nullable = true)\n",
      " |-- name_ar: string (nullable = true)\n",
      " |-- name_bn: string (nullable = true)\n",
      " |-- name_de: string (nullable = true)\n",
      " |-- name_en: string (nullable = true)\n",
      " |-- name_es: string (nullable = true)\n",
      " |-- name_fr: string (nullable = true)\n",
      " |-- name_el: string (nullable = true)\n",
      " |-- name_hi: string (nullable = true)\n",
      " |-- name_hu: string (nullable = true)\n",
      " |-- name_id: string (nullable = true)\n",
      " |-- name_it: string (nullable = true)\n",
      " |-- name_ja: string (nullable = true)\n",
      " |-- name_ko: string (nullable = true)\n",
      " |-- name_nl: string (nullable = true)\n",
      " |-- name_pl: string (nullable = true)\n",
      " |-- name_pt: string (nullable = true)\n",
      " |-- name_ru: string (nullable = true)\n",
      " |-- name_sv: string (nullable = true)\n",
      " |-- name_tr: string (nullable = true)\n",
      " |-- name_vi: string (nullable = true)\n",
      " |-- name_zh: string (nullable = true)\n",
      " |-- ne_id: string (nullable = true)\n",
      " |-- name_he: string (nullable = true)\n",
      " |-- name_uk: string (nullable = true)\n",
      " |-- name_ur: string (nullable = true)\n",
      " |-- name_fa: string (nullable = true)\n",
      " |-- name_zht: string (nullable = true)\n",
      " |-- FCLASS_ISO: string (nullable = true)\n",
      " |-- FCLASS_US: string (nullable = true)\n",
      " |-- FCLASS_FR: string (nullable = true)\n",
      " |-- FCLASS_RU: string (nullable = true)\n",
      " |-- FCLASS_ES: string (nullable = true)\n",
      " |-- FCLASS_CN: string (nullable = true)\n",
      " |-- FCLASS_TW: string (nullable = true)\n",
      " |-- FCLASS_IN: string (nullable = true)\n",
      " |-- FCLASS_NP: string (nullable = true)\n",
      " |-- FCLASS_PK: string (nullable = true)\n",
      " |-- FCLASS_DE: string (nullable = true)\n",
      " |-- FCLASS_GB: string (nullable = true)\n",
      " |-- FCLASS_BR: string (nullable = true)\n",
      " |-- FCLASS_IL: string (nullable = true)\n",
      " |-- FCLASS_PS: string (nullable = true)\n",
      " |-- FCLASS_SA: string (nullable = true)\n",
      " |-- FCLASS_EG: string (nullable = true)\n",
      " |-- FCLASS_MA: string (nullable = true)\n",
      " |-- FCLASS_PT: string (nullable = true)\n",
      " |-- FCLASS_AR: string (nullable = true)\n",
      " |-- FCLASS_JP: string (nullable = true)\n",
      " |-- FCLASS_KO: string (nullable = true)\n",
      " |-- FCLASS_VN: string (nullable = true)\n",
      " |-- FCLASS_TR: string (nullable = true)\n",
      " |-- FCLASS_ID: string (nullable = true)\n",
      " |-- FCLASS_PL: string (nullable = true)\n",
      " |-- FCLASS_GR: string (nullable = true)\n",
      " |-- FCLASS_IT: string (nullable = true)\n",
      " |-- FCLASS_NL: string (nullable = true)\n",
      " |-- FCLASS_SE: string (nullable = true)\n",
      " |-- FCLASS_BD: string (nullable = true)\n",
      " |-- FCLASS_UA: string (nullable = true)\n",
      " |-- FCLASS_TLC: string (nullable = true)\n",
      "\n"
     ]
    }
   ],
   "source": [
    "spatialRDD = ShapefileReader.readToGeometryRDD(sedona, S3_NE_ADMIN1_URL)\n",
    "admin_df = Adapter.toDf(spatialRDD, sedona)\n",
    "admin_df.createOrReplaceTempView(\"admins\")\n",
    "admin_df.printSchema()"
   ]
  },
  {
   "cell_type": "code",
   "execution_count": 12,
   "id": "19f904a8-63da-4d72-aade-13ead8b2d4fb",
   "metadata": {
    "execution": {
     "iopub.execute_input": "2025-04-24T15:23:30.475081Z",
     "iopub.status.busy": "2025-04-24T15:23:30.474866Z",
     "iopub.status.idle": "2025-04-24T15:23:30.504547Z",
     "shell.execute_reply": "2025-04-24T15:23:30.503877Z",
     "shell.execute_reply.started": "2025-04-24T15:23:30.475066Z"
    }
   },
   "outputs": [],
   "source": [
    "selected_df = sedona.sql(\"\"\"\n",
    "SELECT geometry, iso_3166_2 \n",
    "FROM admins\n",
    "\"\"\")"
   ]
  },
  {
   "cell_type": "code",
   "execution_count": 13,
   "id": "3d32c93e-1b40-4715-9a56-982e9ba5ac9e",
   "metadata": {
    "execution": {
     "iopub.execute_input": "2025-04-24T15:23:33.504506Z",
     "iopub.status.busy": "2025-04-24T15:23:33.503178Z",
     "iopub.status.idle": "2025-04-24T15:23:35.453121Z",
     "shell.execute_reply": "2025-04-24T15:23:35.452770Z",
     "shell.execute_reply.started": "2025-04-24T15:23:33.504484Z"
    }
   },
   "outputs": [
    {
     "name": "stderr",
     "output_type": "stream",
     "text": [
      "[Stage 11:>                                                         (0 + 1) / 1]\r"
     ]
    },
    {
     "name": "stdout",
     "output_type": "stream",
     "text": [
      "+--------------------+----------+\n",
      "|            geometry|iso_3166_2|\n",
      "+--------------------+----------+\n",
      "|POLYGON ((-58.200...|      AR-E|\n",
      "|POLYGON ((-58.200...|     UY-PA|\n",
      "|MULTIPOLYGON (((1...|     ID-KI|\n",
      "|MULTIPOLYGON (((1...|     MY-12|\n",
      "|POLYGON ((-69.510...|     CL-AP|\n",
      "|POLYGON ((-69.290...|      BO-L|\n",
      "|POLYGON ((-68.989...|      BO-O|\n",
      "|POLYGON ((-68.989...|     CL-TA|\n",
      "|POLYGON ((-68.597...|      BO-P|\n",
      "|POLYGON ((-68.531...|     CL-AN|\n",
      "|POLYGON ((-69.510...|    PE-TAC|\n",
      "|POLYGON ((-67.284...|      AR-A|\n",
      "|POLYGON ((-67.251...|      AR-Y|\n",
      "|POLYGON ((33.7779...|  -99-X16~|\n",
      "|MULTIPOLYGON (((3...|     CY-03|\n",
      "|POLYGON ((77.8003...|     IN-LA|\n",
      "|POLYGON ((77.8831...|     CN-XJ|\n",
      "|POLYGON ((78.9176...|     CN-XZ|\n",
      "|POLYGON ((34.2483...|      IL-D|\n",
      "|POLYGON ((34.4812...|    PS-GZZ|\n",
      "+--------------------+----------+\n",
      "only showing top 20 rows\n",
      "\n"
     ]
    },
    {
     "name": "stderr",
     "output_type": "stream",
     "text": [
      "                                                                                \r"
     ]
    }
   ],
   "source": [
    "selected_df.show()"
   ]
  },
  {
   "cell_type": "code",
   "execution_count": 14,
   "id": "686f15cf-8c96-4a77-9055-7ca370db0b8a",
   "metadata": {
    "execution": {
     "iopub.execute_input": "2025-04-24T15:23:39.970476Z",
     "iopub.status.busy": "2025-04-24T15:23:39.970244Z",
     "iopub.status.idle": "2025-04-24T15:23:42.336940Z",
     "shell.execute_reply": "2025-04-24T15:23:42.336427Z",
     "shell.execute_reply.started": "2025-04-24T15:23:39.970462Z"
    }
   },
   "outputs": [
    {
     "name": "stderr",
     "output_type": "stream",
     "text": [
      "                                                                                \r"
     ]
    },
    {
     "data": {
      "text/plain": [
       "4596"
      ]
     },
     "execution_count": 14,
     "metadata": {},
     "output_type": "execute_result"
    }
   ],
   "source": [
    "selected_df.count()"
   ]
  },
  {
   "cell_type": "code",
   "execution_count": 15,
   "id": "c70ab634-d1c4-4824-a0ba-c0308f58376a",
   "metadata": {
    "execution": {
     "iopub.execute_input": "2025-04-24T15:23:44.635361Z",
     "iopub.status.busy": "2025-04-24T15:23:44.635081Z",
     "iopub.status.idle": "2025-04-24T15:23:45.550177Z",
     "shell.execute_reply": "2025-04-24T15:23:45.549637Z",
     "shell.execute_reply.started": "2025-04-24T15:23:44.635343Z"
    }
   },
   "outputs": [
    {
     "name": "stderr",
     "output_type": "stream",
     "text": [
      "                                                                                \r"
     ]
    },
    {
     "data": {
      "text/plain": [
       "9502150"
      ]
     },
     "execution_count": 15,
     "metadata": {},
     "output_type": "execute_result"
    }
   ],
   "source": [
    "bb_df.count()"
   ]
  },
  {
   "cell_type": "code",
   "execution_count": 16,
   "id": "1b48c97c-d029-4e38-81b7-40439b1b5251",
   "metadata": {
    "execution": {
     "iopub.execute_input": "2025-04-24T15:23:49.575025Z",
     "iopub.status.busy": "2025-04-24T15:23:49.574798Z",
     "iopub.status.idle": "2025-04-24T15:23:49.598209Z",
     "shell.execute_reply": "2025-04-24T15:23:49.597701Z",
     "shell.execute_reply.started": "2025-04-24T15:23:49.575011Z"
    }
   },
   "outputs": [],
   "source": [
    "selected_df.createOrReplaceTempView(\"admins\")"
   ]
  },
  {
   "cell_type": "code",
   "execution_count": 17,
   "id": "fcdfcb0a-b99d-4eb8-a11d-dfe6a72f3664",
   "metadata": {
    "execution": {
     "iopub.execute_input": "2025-04-24T15:23:53.154656Z",
     "iopub.status.busy": "2025-04-24T15:23:53.154419Z",
     "iopub.status.idle": "2025-04-24T15:23:53.208697Z",
     "shell.execute_reply": "2025-04-24T15:23:53.208012Z",
     "shell.execute_reply.started": "2025-04-24T15:23:53.154642Z"
    }
   },
   "outputs": [],
   "source": [
    "bb_admin_df = sedona.sql(\"\"\"\n",
    "SELECT bb.location AS location, bb.timestamp AS timestamp, bb.common_name AS common_name, bb.scientific_name AS scientific_name, admins.iso_3166_2 AS state \n",
    "FROM bb\n",
    "JOIN admins \n",
    "WHERE ST_Intersects(admins.geometry, bb.location)\n",
    "\"\"\").repartition(\"state\")\n",
    "\n"
   ]
  },
  {
   "cell_type": "code",
   "execution_count": 18,
   "id": "0ede1abe-d33c-402d-8c19-a9572455a17f",
   "metadata": {
    "execution": {
     "iopub.execute_input": "2025-04-24T15:23:56.128327Z",
     "iopub.status.busy": "2025-04-24T15:23:56.127993Z",
     "iopub.status.idle": "2025-04-24T15:24:09.690498Z",
     "shell.execute_reply": "2025-04-24T15:24:09.689793Z",
     "shell.execute_reply.started": "2025-04-24T15:23:56.128311Z"
    }
   },
   "outputs": [
    {
     "name": "stderr",
     "output_type": "stream",
     "text": [
      "                                                                                \r"
     ]
    },
    {
     "data": {
      "text/plain": [
       "9406992"
      ]
     },
     "execution_count": 18,
     "metadata": {},
     "output_type": "execute_result"
    }
   ],
   "source": [
    "bb_admin_df.count()"
   ]
  },
  {
   "cell_type": "code",
   "execution_count": 19,
   "id": "597c8244-60be-4a94-9807-e87df3e2026b",
   "metadata": {
    "execution": {
     "iopub.execute_input": "2025-04-24T15:24:09.691694Z",
     "iopub.status.busy": "2025-04-24T15:24:09.691444Z",
     "iopub.status.idle": "2025-04-24T15:24:22.160491Z",
     "shell.execute_reply": "2025-04-24T15:24:22.159599Z",
     "shell.execute_reply.started": "2025-04-24T15:24:09.691673Z"
    }
   },
   "outputs": [
    {
     "name": "stderr",
     "output_type": "stream",
     "text": [
      "                                                                                \r"
     ]
    },
    {
     "name": "stdout",
     "output_type": "stream",
     "text": [
      "+--------------------+--------------------+--------------------+--------------------+-----+\n",
      "|            location|           timestamp|         common_name|     scientific_name|state|\n",
      "+--------------------+--------------------+--------------------+--------------------+-----+\n",
      "|POINT (-85.338401...|2023-10-06 15:42:...|     tufted titmouse|  baeolophus bicolor|US-TN|\n",
      "|POINT (-85.338401...|2023-10-06 15:42:...|     tufted titmouse|  baeolophus bicolor|US-TN|\n",
      "|POINT (-85.338401...|2023-10-06 15:42:...|  carolina chickadee|poecile carolinensis|US-TN|\n",
      "|POINT (-85.338401...|2023-10-06 15:42:...|  carolina chickadee|poecile carolinensis|US-TN|\n",
      "|POINT (-85.338401...|2023-10-06 15:43:...|     tufted titmouse|  baeolophus bicolor|US-TN|\n",
      "|POINT (-85.338401...|2023-10-06 15:43:...|     tufted titmouse|  baeolophus bicolor|US-TN|\n",
      "|POINT (-85.146102...|2023-10-06 15:43:...|       mourning dove|    zenaida macroura|US-TN|\n",
      "|POINT (-85.146102...|2023-10-06 15:43:...|       mourning dove|    zenaida macroura|US-TN|\n",
      "|POINT (-84.849502...|2023-10-06 15:44:...|     tufted titmouse|  baeolophus bicolor|US-TN|\n",
      "|POINT (-84.849502...|2023-10-06 15:44:...|     tufted titmouse|  baeolophus bicolor|US-TN|\n",
      "|POINT (-86.669441...|2023-10-06 15:44:...|northern mockingbird|   mimus polyglottos|US-TN|\n",
      "|POINT (-86.669441...|2023-10-06 15:44:...|northern mockingbird|   mimus polyglottos|US-TN|\n",
      "|POINT (-86.669441...|2023-10-06 15:44:...|      common grackle|  quiscalus quiscula|US-TN|\n",
      "|POINT (-86.669441...|2023-10-06 15:44:...|      common grackle|  quiscalus quiscula|US-TN|\n",
      "|POINT (-85.146102...|2023-10-06 15:44:...|       mourning dove|    zenaida macroura|US-TN|\n",
      "|POINT (-85.146102...|2023-10-06 15:44:...|       mourning dove|    zenaida macroura|US-TN|\n",
      "|POINT (-86.669441...|2023-10-06 15:44:...|  carolina chickadee|poecile carolinensis|US-TN|\n",
      "|POINT (-86.669441...|2023-10-06 15:44:...|  carolina chickadee|poecile carolinensis|US-TN|\n",
      "|POINT (-86.669441...|2023-10-06 15:44:...|white breasted nu...|  sitta carolinensis|US-TN|\n",
      "|POINT (-86.669441...|2023-10-06 15:44:...|white breasted nu...|  sitta carolinensis|US-TN|\n",
      "+--------------------+--------------------+--------------------+--------------------+-----+\n",
      "only showing top 20 rows\n",
      "\n"
     ]
    }
   ],
   "source": [
    "bb_admin_df.show()"
   ]
  },
  {
   "cell_type": "code",
   "execution_count": 20,
   "id": "e8161567-a0a5-4455-86e2-85789e2d8271",
   "metadata": {
    "execution": {
     "iopub.execute_input": "2025-04-24T15:24:27.464018Z",
     "iopub.status.busy": "2025-04-24T15:24:27.463829Z",
     "iopub.status.idle": "2025-04-24T15:24:27.474023Z",
     "shell.execute_reply": "2025-04-24T15:24:27.473636Z",
     "shell.execute_reply.started": "2025-04-24T15:24:27.464005Z"
    }
   },
   "outputs": [],
   "source": [
    "bb_admin_df.createOrReplaceTempView(\"bb_admin\")"
   ]
  },
  {
   "cell_type": "markdown",
   "id": "ffa7c80b-11d2-4ce1-884b-3320acabc213",
   "metadata": {},
   "source": [
    "Counting the number of unique species (common_name) in different states (state). Here's a detailed explanation:\n",
    "\n",
    "SELECT state, COUNT(DISTINCT common_name) AS unique_species_count\n",
    "state: Selects the state column, which is the name of the state (or administrative region).\n",
    "\n",
    "COUNT(DISTINCT common_name) AS unique_species_count: For each state, counts the number of unique species (common_name). The COUNT(DISTINCT ...) function counts the number of unique values in the column, which in this case means counting unique species.\n",
    "\n",
    "The result of this count will be stored in a new column called unique_species_count.\n",
    "🔹 FROM bb_admin\n",
    "🔹 GROUP BY state\n",
    "Groups the query results by the state column, which means counting unique species for each state separately.\n",
    "ORDER BY unique_species_count DESC\n",
    "Sorts the query results in descending order (DESC) by the number of unique species in each state."
   ]
  },
  {
   "cell_type": "code",
   "execution_count": 21,
   "id": "870ee5f0-4864-455b-a152-4c45c02431e2",
   "metadata": {
    "execution": {
     "iopub.execute_input": "2025-04-24T15:24:31.191219Z",
     "iopub.status.busy": "2025-04-24T15:24:31.191003Z",
     "iopub.status.idle": "2025-04-24T15:24:41.687906Z",
     "shell.execute_reply": "2025-04-24T15:24:41.687365Z",
     "shell.execute_reply.started": "2025-04-24T15:24:31.191205Z"
    }
   },
   "outputs": [
    {
     "name": "stderr",
     "output_type": "stream",
     "text": [
      "[Stage 38:>                                                       (0 + 12) / 14]\r"
     ]
    },
    {
     "name": "stdout",
     "output_type": "stream",
     "text": [
      "+-----+--------------------+\n",
      "|state|unique_species_count|\n",
      "+-----+--------------------+\n",
      "|US-CA|                 110|\n",
      "|US-TX|                 105|\n",
      "|US-AZ|                  99|\n",
      "|US-CO|                  88|\n",
      "|US-KS|                  78|\n",
      "|US-WA|                  75|\n",
      "|US-NM|                  75|\n",
      "|US-OR|                  74|\n",
      "|US-FL|                  74|\n",
      "|US-NY|                  71|\n",
      "|US-VA|                  69|\n",
      "|US-NC|                  69|\n",
      "|US-IL|                  69|\n",
      "|US-PA|                  68|\n",
      "|US-GA|                  67|\n",
      "|US-MN|                  66|\n",
      "|US-WI|                  65|\n",
      "|US-MO|                  65|\n",
      "|US-UT|                  65|\n",
      "|US-MI|                  64|\n",
      "+-----+--------------------+\n",
      "only showing top 20 rows\n",
      "\n"
     ]
    },
    {
     "name": "stderr",
     "output_type": "stream",
     "text": [
      "                                                                                \r"
     ]
    }
   ],
   "source": [
    "unique_species_count_df = sedona.sql(\"\"\"\n",
    "SELECT state, COUNT(DISTINCT common_name) AS unique_species_count\n",
    "FROM bb_admin\n",
    "GROUP BY state\n",
    "ORDER BY unique_species_count DESC\n",
    "\"\"\")\n",
    "\n",
    "unique_species_count_df.show()"
   ]
  },
  {
   "cell_type": "markdown",
   "id": "f5e74f2f-dccb-49e9-928c-b0576653a4ae",
   "metadata": {},
   "source": [
    "Count the number of occurrences of each species (common_name) in different states (state).\n",
    "\n",
    "SELECT state, common_name, COUNT(*) AS species_count:\n",
    "state: Selects the name of the state in which the species was recorded.\n",
    "common_name: Selects the species name (common name).\n",
    "COUNT(*) AS species_count: Counts the number of occurrences of each species in a given state. The COUNT(*) function counts the number of rows in each group (where each group is a combination of a state and a species). The result is assigned to a new column called species_count.\n",
    "\n",
    "🔹 FROM bb_admin\n",
    "🔹 GROUP BY state, common_name\n",
    "A result group is created from two columns: state and common_name.\n",
    "\n",
    "For each combination of state and species, the COUNT(*) function will count the number of times a species appears in that state.\n",
    "🔹 ORDER BY state, species_count DESC\n",
    "Sorts the results:\n",
    "First, the results will be sorted ascending by state.\n",
    "\n",
    "Then, for each state, the results will be sorted descending (DESC) by species_count. This means that the species with the highest number of occurrences in a given state will appear first.\n",
    "🔹 species_count_df.show()\n",
    "show() will display the query result in a table, showing the count of species occurrences for each state. This will show rows with columns:\n",
    "state: State name.\n",
    "common_name: Species name.\n",
    "species_count: Number of occurrences of a given species in a given state."
   ]
  },
  {
   "cell_type": "code",
   "execution_count": 22,
   "id": "f56b13c3-a4c3-4157-b031-1aceb87d0501",
   "metadata": {
    "execution": {
     "iopub.execute_input": "2025-04-24T15:24:51.335107Z",
     "iopub.status.busy": "2025-04-24T15:24:51.334880Z",
     "iopub.status.idle": "2025-04-24T15:25:01.148375Z",
     "shell.execute_reply": "2025-04-24T15:25:01.147719Z",
     "shell.execute_reply.started": "2025-04-24T15:24:51.335093Z"
    }
   },
   "outputs": [
    {
     "name": "stderr",
     "output_type": "stream",
     "text": [
      "[Stage 42:===================================================>    (11 + 1) / 12]\r"
     ]
    },
    {
     "name": "stdout",
     "output_type": "stream",
     "text": [
      "+------+--------------------+-------------+\n",
      "| state|         common_name|species_count|\n",
      "+------+--------------------+-------------+\n",
      "| AD-02|           great tit|            4|\n",
      "| AD-08|   eurasian blue tit|          100|\n",
      "| AD-08|      european robin|           98|\n",
      "| AD-08|           great tit|           30|\n",
      "| AD-08|    common blackbird|            4|\n",
      "| AE-DU|             sparrow|          566|\n",
      "| AE-DU|       laughing dove|          224|\n",
      "| AE-DU|              pigeon|          132|\n",
      "| AE-DU|eurasian collared...|          112|\n",
      "| AE-DU|  white eared bulbul|           40|\n",
      "| AE-DU|              thrush|           20|\n",
      "| AE-DU|              bulbul|           20|\n",
      "| AE-DU|             sunbird|            6|\n",
      "| AE-DU|            starling|            4|\n",
      "| AE-DU|    common blackbird|            2|\n",
      "| AE-DU|                crow|            2|\n",
      "| AE-DU|              weaver|            2|\n",
      "|AO-LUA|              pigeon|         1270|\n",
      "|AO-LUA|   cordon bleu finch|          750|\n",
      "|AO-LUA|             sparrow|          488|\n",
      "+------+--------------------+-------------+\n",
      "only showing top 20 rows\n",
      "\n"
     ]
    },
    {
     "name": "stderr",
     "output_type": "stream",
     "text": [
      "                                                                                \r"
     ]
    }
   ],
   "source": [
    "species_count_df = sedona.sql(\"\"\"\n",
    "SELECT \n",
    "    state, \n",
    "    common_name, \n",
    "    COUNT(*) AS species_count\n",
    "FROM bb_admin\n",
    "GROUP BY state, common_name\n",
    "ORDER BY state, species_count DESC\n",
    "\"\"\")\n",
    "\n",
    "species_count_df.show()"
   ]
  },
  {
   "cell_type": "code",
   "execution_count": 23,
   "id": "e1d86fad-629c-49fa-b67f-917465436c91",
   "metadata": {
    "execution": {
     "iopub.execute_input": "2025-04-24T15:25:08.115072Z",
     "iopub.status.busy": "2025-04-24T15:25:08.114797Z",
     "iopub.status.idle": "2025-04-24T15:25:17.392584Z",
     "shell.execute_reply": "2025-04-24T15:25:17.392064Z",
     "shell.execute_reply.started": "2025-04-24T15:25:08.115057Z"
    }
   },
   "outputs": [
    {
     "name": "stderr",
     "output_type": "stream",
     "text": [
      "[Stage 48:===================================================>    (11 + 1) / 12]\r"
     ]
    },
    {
     "name": "stdout",
     "output_type": "stream",
     "text": [
      "+---+\n",
      "|num|\n",
      "+---+\n",
      "|893|\n",
      "+---+\n",
      "\n"
     ]
    },
    {
     "name": "stderr",
     "output_type": "stream",
     "text": [
      "                                                                                \r"
     ]
    }
   ],
   "source": [
    "sedona.sql(\"\"\"\n",
    "WITH distinct_states AS (SELECT DISTINCT state FROM bb_admin)\n",
    "SELECT COUNT(*) AS num FROM distinct_states\n",
    "\"\"\").show()"
   ]
  },
  {
   "cell_type": "code",
   "execution_count": 24,
   "id": "e54ab503-ab2c-4c2b-b58d-318938b2b009",
   "metadata": {
    "execution": {
     "iopub.execute_input": "2025-04-24T15:25:23.246959Z",
     "iopub.status.busy": "2025-04-24T15:25:23.246419Z",
     "iopub.status.idle": "2025-04-24T15:25:32.496221Z",
     "shell.execute_reply": "2025-04-24T15:25:32.495686Z",
     "shell.execute_reply.started": "2025-04-24T15:25:23.246934Z"
    }
   },
   "outputs": [
    {
     "name": "stderr",
     "output_type": "stream",
     "text": [
      "[Stage 57:==============================================>         (10 + 2) / 12]\r"
     ]
    },
    {
     "name": "stdout",
     "output_type": "stream",
     "text": [
      "+---+\n",
      "|num|\n",
      "+---+\n",
      "|370|\n",
      "+---+\n",
      "\n"
     ]
    },
    {
     "name": "stderr",
     "output_type": "stream",
     "text": [
      "                                                                                \r"
     ]
    }
   ],
   "source": [
    "sedona.sql(\"\"\"\n",
    "WITH distinct_birds AS (SELECT DISTINCT common_name FROM bb_admin)\n",
    "SELECT COUNT(*) AS num FROM distinct_birds\n",
    "\"\"\").show()"
   ]
  },
  {
   "cell_type": "markdown",
   "id": "7e175896-bec3-4c67-ad4e-433d0273e2e9",
   "metadata": {},
   "source": [
    "Extracting the number of records for each state, without sorting the data. This query will return the number of records assigned to each state in the bb_admin table. Result is number of administrative units for each state."
   ]
  },
  {
   "cell_type": "code",
   "execution_count": 25,
   "id": "32b096e1-acab-4264-a489-bcb57e74ad63",
   "metadata": {
    "execution": {
     "iopub.execute_input": "2025-04-24T15:25:39.414573Z",
     "iopub.status.busy": "2025-04-24T15:25:39.414030Z",
     "iopub.status.idle": "2025-04-24T15:25:48.548646Z",
     "shell.execute_reply": "2025-04-24T15:25:48.548136Z",
     "shell.execute_reply.started": "2025-04-24T15:25:39.414552Z"
    }
   },
   "outputs": [
    {
     "name": "stderr",
     "output_type": "stream",
     "text": [
      "[Stage 70:===================================================>    (11 + 1) / 12]\r"
     ]
    },
    {
     "name": "stdout",
     "output_type": "stream",
     "text": [
      "+------+------+\n",
      "|   num| state|\n",
      "+------+------+\n",
      "|124202| US-TN|\n",
      "|    82|SI-140|\n",
      "|   384| IT-AO|\n",
      "|   686|GB-ARM|\n",
      "| 17238|GB-WSM|\n",
      "|  8534|BE-VLI|\n",
      "|  1250|SI-043|\n",
      "|  2842|  ES-M|\n",
      "|  1182| IT-PG|\n",
      "|  2094|GB-NAY|\n",
      "| 33670| US-OK|\n",
      "|  8224|GB-NYK|\n",
      "|  1352| AU-NT|\n",
      "|  2134| FR-86|\n",
      "|  1228|GB-STE|\n",
      "|  1014|SI-040|\n",
      "|  3796| CZ-VY|\n",
      "|  3230|GB-SOM|\n",
      "|  5592| NO-11|\n",
      "|   470| PT-16|\n",
      "+------+------+\n",
      "only showing top 20 rows\n",
      "\n"
     ]
    },
    {
     "name": "stderr",
     "output_type": "stream",
     "text": [
      "                                                                                \r"
     ]
    }
   ],
   "source": [
    "state_count_query = sedona.sql(\"\"\"\n",
    "SELECT COUNT(*) AS num, state\n",
    "FROM bb_admin\n",
    "GROUP BY state\n",
    "\"\"\")\n",
    "state_count_query.show()"
   ]
  },
  {
   "cell_type": "code",
   "execution_count": 26,
   "id": "aba9cd5a-e342-49a1-95c6-ecd80458e1e6",
   "metadata": {
    "execution": {
     "iopub.execute_input": "2025-04-24T15:25:51.162329Z",
     "iopub.status.busy": "2025-04-24T15:25:51.162132Z",
     "iopub.status.idle": "2025-04-24T15:25:51.474976Z",
     "shell.execute_reply": "2025-04-24T15:25:51.474573Z",
     "shell.execute_reply.started": "2025-04-24T15:25:51.162313Z"
    }
   },
   "outputs": [
    {
     "name": "stdout",
     "output_type": "stream",
     "text": [
      "+----------+--------------------+\n",
      "|iso_3166_2|            geometry|\n",
      "+----------+--------------------+\n",
      "|      AR-E|POLYGON ((-58.200...|\n",
      "|     UY-PA|POLYGON ((-58.200...|\n",
      "|     ID-KI|MULTIPOLYGON (((1...|\n",
      "|     MY-12|MULTIPOLYGON (((1...|\n",
      "|     CL-AP|POLYGON ((-69.510...|\n",
      "|      BO-L|POLYGON ((-69.290...|\n",
      "|      BO-O|POLYGON ((-68.989...|\n",
      "|     CL-TA|POLYGON ((-68.989...|\n",
      "|      BO-P|POLYGON ((-68.597...|\n",
      "|     CL-AN|POLYGON ((-68.531...|\n",
      "|    PE-TAC|POLYGON ((-69.510...|\n",
      "|      AR-A|POLYGON ((-67.284...|\n",
      "|      AR-Y|POLYGON ((-67.251...|\n",
      "|  -99-X16~|POLYGON ((33.7779...|\n",
      "|     CY-03|MULTIPOLYGON (((3...|\n",
      "|     IN-LA|POLYGON ((77.8003...|\n",
      "|     CN-XJ|POLYGON ((77.8831...|\n",
      "|     CN-XZ|POLYGON ((78.9176...|\n",
      "|      IL-D|POLYGON ((34.2483...|\n",
      "|    PS-GZZ|POLYGON ((34.4812...|\n",
      "+----------+--------------------+\n",
      "only showing top 20 rows\n",
      "\n"
     ]
    }
   ],
   "source": [
    "geometry_query = sedona.sql(\"\"\"\n",
    "SELECT iso_3166_2, geometry\n",
    "FROM admins\n",
    "\"\"\")\n",
    "geometry_query.show()"
   ]
  },
  {
   "cell_type": "code",
   "execution_count": 27,
   "id": "86619bd5-8a2c-48ef-b2fe-ebcd2c1d5264",
   "metadata": {
    "execution": {
     "iopub.execute_input": "2025-04-24T15:25:55.565049Z",
     "iopub.status.busy": "2025-04-24T15:25:55.564853Z",
     "iopub.status.idle": "2025-04-24T15:26:04.761910Z",
     "shell.execute_reply": "2025-04-24T15:26:04.761566Z",
     "shell.execute_reply.started": "2025-04-24T15:25:55.565035Z"
    }
   },
   "outputs": [
    {
     "name": "stderr",
     "output_type": "stream",
     "text": [
      "[Stage 77:===================================================>    (11 + 1) / 12]\r"
     ]
    },
    {
     "name": "stdout",
     "output_type": "stream",
     "text": [
      "+-------------+-----+--------------------+--------------------+\n",
      "|species_count|state|         common_name|            geometry|\n",
      "+-------------+-----+--------------------+--------------------+\n",
      "|          586| AT-7|        eurasian jay|MULTIPOLYGON (((1...|\n",
      "|          340| AT-7|    common blackbird|MULTIPOLYGON (((1...|\n",
      "|          174| AT-7|   eurasian blue tit|MULTIPOLYGON (((1...|\n",
      "|         1322| AT-7|           great tit|MULTIPOLYGON (((1...|\n",
      "|          672| AT-7|    common chaffinch|MULTIPOLYGON (((1...|\n",
      "|           64| AT-7| european greenfinch|MULTIPOLYGON (((1...|\n",
      "|           56| AT-7|eurasian tree spa...|MULTIPOLYGON (((1...|\n",
      "|           34| AT-7|             dunnock|MULTIPOLYGON (((1...|\n",
      "|           14| AT-7|            coal tit|MULTIPOLYGON (((1...|\n",
      "|          166| AT-7|      european robin|MULTIPOLYGON (((1...|\n",
      "|           28| AT-7|   eurasian nuthatch|MULTIPOLYGON (((1...|\n",
      "|           14| AT-7|           marsh tit|MULTIPOLYGON (((1...|\n",
      "|            6| AT-7|         common myna|MULTIPOLYGON (((1...|\n",
      "|            2| AT-7|  eurasian bullfinch|MULTIPOLYGON (((1...|\n",
      "|           14| AT-7|great spotted woo...|MULTIPOLYGON (((1...|\n",
      "|            2| AT-7|         crested tit|MULTIPOLYGON (((1...|\n",
      "|           26| AT-7|     western jackdaw|MULTIPOLYGON (((1...|\n",
      "|            2| AT-7|        carrion crow|MULTIPOLYGON (((1...|\n",
      "|            2| AT-7|            hawfinch|MULTIPOLYGON (((1...|\n",
      "|           10| AT-7|           brambling|MULTIPOLYGON (((1...|\n",
      "+-------------+-----+--------------------+--------------------+\n",
      "only showing top 20 rows\n",
      "\n"
     ]
    },
    {
     "name": "stderr",
     "output_type": "stream",
     "text": [
      "                                                                                \r"
     ]
    }
   ],
   "source": [
    "species_count_df.createOrReplaceTempView(\"species_counts\")\n",
    "geometry_query.createOrReplaceTempView(\"geometries\")\n",
    "\n",
    "\n",
    "final_query1 = sedona.sql(\"\"\"\n",
    "SELECT \n",
    "    species_counts.species_count, \n",
    "    species_counts.state, \n",
    "    species_counts.common_name,\n",
    "    geometries.geometry\n",
    "FROM species_counts\n",
    "JOIN geometries \n",
    "ON species_counts.state = geometries.iso_3166_2\n",
    "\"\"\")\n",
    "\n",
    "\n",
    "final_query1.show()"
   ]
  },
  {
   "cell_type": "code",
   "execution_count": 1,
   "id": "f930d8c0-b035-4ccd-815f-11a9f97acce7",
   "metadata": {
    "execution": {
     "iopub.execute_input": "2025-04-24T15:37:38.455484Z",
     "iopub.status.busy": "2025-04-24T15:37:38.455238Z",
     "iopub.status.idle": "2025-04-24T15:37:38.571268Z",
     "shell.execute_reply": "2025-04-24T15:37:38.570563Z",
     "shell.execute_reply.started": "2025-04-24T15:37:38.455469Z"
    }
   },
   "outputs": [
    {
     "ename": "NameError",
     "evalue": "name 'final_query1' is not defined",
     "output_type": "error",
     "traceback": [
      "\u001b[0;31m---------------------------------------------------------------------------\u001b[0m",
      "\u001b[0;31mNameError\u001b[0m                                 Traceback (most recent call last)",
      "Cell \u001b[0;32mIn[1], line 1\u001b[0m\n\u001b[0;32m----> 1\u001b[0m \u001b[43mfinal_query1\u001b[49m\u001b[38;5;241m.\u001b[39mcreateOrReplaceTempView(\u001b[38;5;124m\"\u001b[39m\u001b[38;5;124mfinal\u001b[39m\u001b[38;5;124m\"\u001b[39m)\n",
      "\u001b[0;31mNameError\u001b[0m: name 'final_query1' is not defined"
     ]
    }
   ],
   "source": [
    "final_query1.createOrReplaceTempView(\"final\")"
   ]
  },
  {
   "cell_type": "markdown",
   "id": "30ad18fb-81ef-46a6-8281-d65e614226b2",
   "metadata": {},
   "source": [
    "Executing an SQL query to retrieve only data for the first three states"
   ]
  },
  {
   "cell_type": "code",
   "execution_count": 29,
   "id": "698c141b-5f2a-4577-9910-8730250369fc",
   "metadata": {
    "execution": {
     "iopub.execute_input": "2025-04-24T15:26:10.290675Z",
     "iopub.status.busy": "2025-04-24T15:26:10.290445Z",
     "iopub.status.idle": "2025-04-24T15:26:20.907093Z",
     "shell.execute_reply": "2025-04-24T15:26:20.906529Z",
     "shell.execute_reply.started": "2025-04-24T15:26:10.290660Z"
    }
   },
   "outputs": [
    {
     "name": "stderr",
     "output_type": "stream",
     "text": [
      "                                                                                \r"
     ]
    },
    {
     "name": "stdout",
     "output_type": "stream",
     "text": [
      "+-------------+-----+--------------------+--------------------+\n",
      "|species_count|state|         common_name|            geometry|\n",
      "+-------------+-----+--------------------+--------------------+\n",
      "|          100|AD-08|   eurasian blue tit|POLYGON ((1.65698...|\n",
      "|           30|AD-08|           great tit|POLYGON ((1.65698...|\n",
      "|           98|AD-08|      european robin|POLYGON ((1.65698...|\n",
      "|            4|AD-08|    common blackbird|POLYGON ((1.65698...|\n",
      "|            4|AD-02|           great tit|POLYGON ((1.59734...|\n",
      "|           40|AE-DU|  white eared bulbul|MULTIPOLYGON (((5...|\n",
      "|          224|AE-DU|       laughing dove|MULTIPOLYGON (((5...|\n",
      "|          112|AE-DU|eurasian collared...|MULTIPOLYGON (((5...|\n",
      "|          566|AE-DU|             sparrow|MULTIPOLYGON (((5...|\n",
      "|           20|AE-DU|              thrush|MULTIPOLYGON (((5...|\n",
      "|          132|AE-DU|              pigeon|MULTIPOLYGON (((5...|\n",
      "|           20|AE-DU|              bulbul|MULTIPOLYGON (((5...|\n",
      "|            2|AE-DU|                crow|MULTIPOLYGON (((5...|\n",
      "|            2|AE-DU|              weaver|MULTIPOLYGON (((5...|\n",
      "|            6|AE-DU|             sunbird|MULTIPOLYGON (((5...|\n",
      "|            4|AE-DU|            starling|MULTIPOLYGON (((5...|\n",
      "|            2|AE-DU|    common blackbird|MULTIPOLYGON (((5...|\n",
      "+-------------+-----+--------------------+--------------------+\n",
      "\n"
     ]
    }
   ],
   "source": [
    "result_df = sedona.sql(\"\"\"\n",
    "SELECT * FROM final\n",
    "WHERE state IN (\n",
    "    SELECT state FROM final\n",
    "    GROUP BY state\n",
    "    ORDER BY state\n",
    "    LIMIT 3\n",
    ")\n",
    "\"\"\")\n",
    "\n",
    "result_df.show()"
   ]
  },
  {
   "cell_type": "code",
   "execution_count": 31,
   "id": "3f1f4fc8-d02b-4b3e-ab47-29c4fdf1cd89",
   "metadata": {
    "execution": {
     "iopub.execute_input": "2025-04-24T15:26:26.126312Z",
     "iopub.status.busy": "2025-04-24T15:26:26.126120Z",
     "iopub.status.idle": "2025-04-24T15:26:26.140793Z",
     "shell.execute_reply": "2025-04-24T15:26:26.140186Z",
     "shell.execute_reply.started": "2025-04-24T15:26:26.126300Z"
    }
   },
   "outputs": [],
   "source": [
    "result_df.createOrReplaceTempView(\"final1\")"
   ]
  },
  {
   "cell_type": "markdown",
   "id": "b305a67e-5307-4011-8cd8-82835ba1269b",
   "metadata": {},
   "source": [
    "states = [row[\"state\"] for row in sedona.sql(\"SELECT DISTINCT state FROM final1\").collect()]\n",
    "sedona.sql(\"SELECT DISTINCT state FROM final1\"):\n",
    "\n",
    "This is an SQL query that selects all unique (DISTINCT) values ​​from the state column in the final1 table.\n",
    "\n",
    ".collect():\n",
    "\n",
    "The collect() function executes an SQL query on the dataset and returns a result in the form of a list of rows. For each row in the result, row[\"state\"] allows you to get the value from the state column.\n",
    "\n",
    "[row[\"state\"] for row in ...]:\n",
    "\n",
    "Creates a list where each element is the value from the state column for each row in the query results.\n",
    "\n",
    "As a result, the states variable contains a list of unique states (e.g. [\"Texas\", \"California\", \"New York\"]).\n",
    "\n",
    "2. state_columns = \", \".join([f\"'{state}'\" for state in states])\n",
    "[f\"'{state}'\" for state in states]:\n",
    "\n",
    "Creates a list where each state in the list states is wrapped in single quotes. This creates a list where each state is stored as a SQL string (e.g. \"'Texas'\").\n",
    "\n",
    "For example, if states = [\"Texas\", \"California\", \"New York\"], the result of this operation is: [\"'Texas'\", \"'California'\", \"'New York'\"].\n",
    "\n",
    "\", \".join([...]):\n",
    "\n",
    "Joins all the elements of the list into a single string, where each element is separated by a comma and a space.\n",
    "\n",
    "In the case where the list is [\"'Texas'\", \"'California'\", \"'New York'\"], after this operation, the result of this operation is:"
   ]
  },
  {
   "cell_type": "code",
   "execution_count": 32,
   "id": "5520f478-8131-467b-9f64-779d6c72009f",
   "metadata": {
    "execution": {
     "iopub.execute_input": "2025-04-24T15:26:29.246640Z",
     "iopub.status.busy": "2025-04-24T15:26:29.246454Z",
     "iopub.status.idle": "2025-04-24T15:26:39.293183Z",
     "shell.execute_reply": "2025-04-24T15:26:39.292199Z",
     "shell.execute_reply.started": "2025-04-24T15:26:29.246627Z"
    }
   },
   "outputs": [
    {
     "name": "stderr",
     "output_type": "stream",
     "text": [
      "                                                                                \r"
     ]
    }
   ],
   "source": [
    "states = [row[\"state\"] for row in sedona.sql(\"SELECT DISTINCT state FROM final1\").collect()]\n",
    "\n",
    "state_columns = \", \".join([f\"'{state}'\" for state in states])"
   ]
  },
  {
   "cell_type": "code",
   "execution_count": 33,
   "id": "3b432386-f4af-4cf0-b576-22a39102d360",
   "metadata": {
    "execution": {
     "iopub.execute_input": "2025-04-24T15:26:40.686894Z",
     "iopub.status.busy": "2025-04-24T15:26:40.686611Z",
     "iopub.status.idle": "2025-04-24T15:26:40.690415Z",
     "shell.execute_reply": "2025-04-24T15:26:40.689991Z",
     "shell.execute_reply.started": "2025-04-24T15:26:40.686878Z"
    }
   },
   "outputs": [
    {
     "data": {
      "text/plain": [
       "['AD-08', 'AD-02', 'AE-DU']"
      ]
     },
     "execution_count": 33,
     "metadata": {},
     "output_type": "execute_result"
    }
   ],
   "source": [
    "states"
   ]
  },
  {
   "cell_type": "code",
   "execution_count": 34,
   "id": "1942dd3c-feef-4212-9696-56b668378774",
   "metadata": {
    "execution": {
     "iopub.execute_input": "2025-04-24T15:26:50.115078Z",
     "iopub.status.busy": "2025-04-24T15:26:50.114855Z",
     "iopub.status.idle": "2025-04-24T15:26:50.118548Z",
     "shell.execute_reply": "2025-04-24T15:26:50.118141Z",
     "shell.execute_reply.started": "2025-04-24T15:26:50.115064Z"
    }
   },
   "outputs": [
    {
     "data": {
      "text/plain": [
       "\"'AD-08', 'AD-02', 'AE-DU'\""
      ]
     },
     "execution_count": 34,
     "metadata": {},
     "output_type": "execute_result"
    }
   ],
   "source": [
    "state_columns"
   ]
  },
  {
   "cell_type": "code",
   "execution_count": 35,
   "id": "1e449b96-a50e-4862-a352-9c9a66f0834b",
   "metadata": {
    "execution": {
     "iopub.execute_input": "2025-04-24T15:26:54.289943Z",
     "iopub.status.busy": "2025-04-24T15:26:54.289736Z",
     "iopub.status.idle": "2025-04-24T15:26:54.317655Z",
     "shell.execute_reply": "2025-04-24T15:26:54.316713Z",
     "shell.execute_reply.started": "2025-04-24T15:26:54.289929Z"
    }
   },
   "outputs": [],
   "source": [
    "query = f\"\"\"\n",
    "SELECT * FROM (\n",
    "    SELECT \n",
    "        common_name, \n",
    "        state, \n",
    "        species_count\n",
    "    FROM final1\n",
    ") \n",
    "PIVOT (\n",
    "    SUM(species_count) FOR state IN ({state_columns})\n",
    ")\n",
    "\"\"\"\n",
    "\n",
    "pivot_species_count_df = sedona.sql(query)"
   ]
  },
  {
   "cell_type": "code",
   "execution_count": 36,
   "id": "3b687a19-8584-4f0d-9064-ff3553ffe480",
   "metadata": {
    "execution": {
     "iopub.execute_input": "2025-04-24T15:26:58.126874Z",
     "iopub.status.busy": "2025-04-24T15:26:58.126673Z",
     "iopub.status.idle": "2025-04-24T15:27:08.608777Z",
     "shell.execute_reply": "2025-04-24T15:27:08.608206Z",
     "shell.execute_reply.started": "2025-04-24T15:26:58.126860Z"
    }
   },
   "outputs": [
    {
     "name": "stderr",
     "output_type": "stream",
     "text": [
      "[Stage 125:===============================================>       (12 + 2) / 14]\r"
     ]
    },
    {
     "name": "stdout",
     "output_type": "stream",
     "text": [
      "+-----------------+-----+-----+-----+\n",
      "|      common_name|AD-08|AD-02|AE-DU|\n",
      "+-----------------+-----+-----+-----+\n",
      "| common blackbird|    4| NULL|    2|\n",
      "|eurasian blue tit|  100| NULL| NULL|\n",
      "|   european robin|   98| NULL| NULL|\n",
      "+-----------------+-----+-----+-----+\n",
      "only showing top 3 rows\n",
      "\n"
     ]
    },
    {
     "name": "stderr",
     "output_type": "stream",
     "text": [
      "                                                                                \r"
     ]
    }
   ],
   "source": [
    "pivot_species_count_df.show(3)"
   ]
  },
  {
   "cell_type": "code",
   "execution_count": 37,
   "id": "b5e96071-fe38-4fec-be8d-b68272ea360e",
   "metadata": {
    "execution": {
     "iopub.execute_input": "2025-04-24T15:27:12.222821Z",
     "iopub.status.busy": "2025-04-24T15:27:12.222609Z",
     "iopub.status.idle": "2025-04-24T15:27:21.162346Z",
     "shell.execute_reply": "2025-04-24T15:27:21.161812Z",
     "shell.execute_reply.started": "2025-04-24T15:27:12.222805Z"
    }
   },
   "outputs": [
    {
     "name": "stderr",
     "output_type": "stream",
     "text": [
      "                                                                                \r"
     ]
    }
   ],
   "source": [
    "states = [row[\"state\"] for row in sedona.sql(\"SELECT DISTINCT state FROM final\").collect()]\n",
    "state_columns = \", \".join([f\"'{state}'\" for state in states])"
   ]
  },
  {
   "cell_type": "code",
   "execution_count": 38,
   "id": "81534a03-0e76-4b5b-af58-2d7366eac3ec",
   "metadata": {
    "execution": {
     "iopub.execute_input": "2025-04-24T15:27:21.163285Z",
     "iopub.status.busy": "2025-04-24T15:27:21.163062Z",
     "iopub.status.idle": "2025-04-24T15:27:21.314113Z",
     "shell.execute_reply": "2025-04-24T15:27:21.313060Z",
     "shell.execute_reply.started": "2025-04-24T15:27:21.163271Z"
    }
   },
   "outputs": [],
   "source": [
    "query = f\"\"\"\n",
    "SELECT * FROM (\n",
    "    SELECT \n",
    "        common_name, \n",
    "        state, \n",
    "        species_count\n",
    "    FROM final\n",
    ") \n",
    "PIVOT (\n",
    "    SUM(species_count) FOR state IN ({state_columns})\n",
    ")\n",
    "\"\"\"\n",
    "\n",
    "# Wykonanie zapytania\n",
    "pivot_species_count_df = sedona.sql(query)"
   ]
  },
  {
   "cell_type": "code",
   "execution_count": 39,
   "id": "1a380fa1-0797-4f80-82c7-78cd2ba19021",
   "metadata": {
    "execution": {
     "iopub.execute_input": "2025-04-24T15:27:28.782306Z",
     "iopub.status.busy": "2025-04-24T15:27:28.782054Z",
     "iopub.status.idle": "2025-04-24T15:27:37.761031Z",
     "shell.execute_reply": "2025-04-24T15:27:37.760180Z",
     "shell.execute_reply.started": "2025-04-24T15:27:28.782286Z"
    }
   },
   "outputs": [
    {
     "name": "stderr",
     "output_type": "stream",
     "text": [
      "[Stage 141:==================================================>    (11 + 1) / 12]\r"
     ]
    },
    {
     "name": "stdout",
     "output_type": "stream",
     "text": [
      "+----+------+--------------------+\n",
      "| num| state|            geometry|\n",
      "+----+------+--------------------+\n",
      "|1352| AU-NT|MULTIPOLYGON (((1...|\n",
      "|2854| AU-SA|MULTIPOLYGON (((1...|\n",
      "|8534|BE-VLI|MULTIPOLYGON (((5...|\n",
      "|6258| CA-NL|MULTIPOLYGON (((-...|\n",
      "|8548| CZ-JM|POLYGON ((15.7037...|\n",
      "|5594| CZ-PL|POLYGON ((12.4825...|\n",
      "|3796| CZ-VY|POLYGON ((16.3919...|\n",
      "|3678| DK-81|MULTIPOLYGON (((9...|\n",
      "|2842|  ES-M|MULTIPOLYGON (((-...|\n",
      "|  20| ES-SE|POLYGON ((-6.2316...|\n",
      "| 334| FI-08|POLYGON ((26.1377...|\n",
      "|1356| FR-17|MULTIPOLYGON (((-...|\n",
      "| 548| FR-18|POLYGON ((1.88572...|\n",
      "|1334| FR-22|POLYGON ((-3.6385...|\n",
      "| 112| FR-26|POLYGON ((4.99006...|\n",
      "|3480| FR-28|POLYGON ((1.21179...|\n",
      "|3770| FR-29|MULTIPOLYGON (((-...|\n",
      "|1704| FR-54|POLYGON ((5.74634...|\n",
      "|4132| FR-69|POLYGON ((4.79782...|\n",
      "| 564| FR-70|POLYGON ((5.61595...|\n",
      "+----+------+--------------------+\n",
      "only showing top 20 rows\n",
      "\n"
     ]
    },
    {
     "name": "stderr",
     "output_type": "stream",
     "text": [
      "                                                                                \r"
     ]
    }
   ],
   "source": [
    "\n",
    "state_count_query.createOrReplaceTempView(\"state_counts\")\n",
    "geometry_query.createOrReplaceTempView(\"geometries\")\n",
    "\n",
    "\n",
    "final_query = sedona.sql(\"\"\"\n",
    "SELECT \n",
    "    state_counts.num, \n",
    "    state_counts.state, \n",
    "    geometries.geometry\n",
    "FROM state_counts\n",
    "JOIN geometries \n",
    "ON state_counts.state = geometries.iso_3166_2\n",
    "\"\"\")\n",
    "\n",
    "# Wyświetlenie wyniku\n",
    "final_query.show()"
   ]
  },
  {
   "cell_type": "code",
   "execution_count": 40,
   "id": "ca61307c-1241-4510-81b7-67c8edcd66db",
   "metadata": {
    "execution": {
     "iopub.execute_input": "2025-04-24T15:27:43.005857Z",
     "iopub.status.busy": "2025-04-24T15:27:43.005649Z",
     "iopub.status.idle": "2025-04-24T15:27:43.025349Z",
     "shell.execute_reply": "2025-04-24T15:27:43.024822Z",
     "shell.execute_reply.started": "2025-04-24T15:27:43.005842Z"
    }
   },
   "outputs": [],
   "source": [
    "state_count_df = sedona.sql(\"\"\"\n",
    "WITH states_count1 AS (SELECT COUNT(*) AS num, state\n",
    "FROM bb_admin\n",
    "GROUP BY state\n",
    "ORDER BY num DESC)\n",
    "SELECT states_count1.num, states_count1.state, admins.geometry FROM states_count1\n",
    "JOIN admins ON states_count1.state = admins.iso_3166_2\n",
    "\"\"\")"
   ]
  },
  {
   "cell_type": "code",
   "execution_count": 41,
   "id": "327d9d04-0b42-439a-b639-2f71d383b81b",
   "metadata": {
    "execution": {
     "iopub.execute_input": "2025-04-24T15:27:46.120276Z",
     "iopub.status.busy": "2025-04-24T15:27:46.120042Z",
     "iopub.status.idle": "2025-04-24T15:27:53.787820Z",
     "shell.execute_reply": "2025-04-24T15:27:53.787466Z",
     "shell.execute_reply.started": "2025-04-24T15:27:46.120261Z"
    }
   },
   "outputs": [
    {
     "name": "stderr",
     "output_type": "stream",
     "text": [
      "[Stage 149:==================================================>    (11 + 1) / 12]\r"
     ]
    },
    {
     "name": "stdout",
     "output_type": "stream",
     "text": [
      "+----+------+--------------------+\n",
      "| num| state|            geometry|\n",
      "+----+------+--------------------+\n",
      "|1352| AU-NT|MULTIPOLYGON (((1...|\n",
      "|2854| AU-SA|MULTIPOLYGON (((1...|\n",
      "|8534|BE-VLI|MULTIPOLYGON (((5...|\n",
      "|6258| CA-NL|MULTIPOLYGON (((-...|\n",
      "|8548| CZ-JM|POLYGON ((15.7037...|\n",
      "|5594| CZ-PL|POLYGON ((12.4825...|\n",
      "|3796| CZ-VY|POLYGON ((16.3919...|\n",
      "|3678| DK-81|MULTIPOLYGON (((9...|\n",
      "|2842|  ES-M|MULTIPOLYGON (((-...|\n",
      "|  20| ES-SE|POLYGON ((-6.2316...|\n",
      "| 334| FI-08|POLYGON ((26.1377...|\n",
      "|1356| FR-17|MULTIPOLYGON (((-...|\n",
      "| 548| FR-18|POLYGON ((1.88572...|\n",
      "|1334| FR-22|POLYGON ((-3.6385...|\n",
      "| 112| FR-26|POLYGON ((4.99006...|\n",
      "|3480| FR-28|POLYGON ((1.21179...|\n",
      "|3770| FR-29|MULTIPOLYGON (((-...|\n",
      "|1704| FR-54|POLYGON ((5.74634...|\n",
      "|4132| FR-69|POLYGON ((4.79782...|\n",
      "| 564| FR-70|POLYGON ((5.61595...|\n",
      "+----+------+--------------------+\n",
      "only showing top 20 rows\n",
      "\n"
     ]
    },
    {
     "name": "stderr",
     "output_type": "stream",
     "text": [
      "                                                                                \r"
     ]
    }
   ],
   "source": [
    "state_count_df.show()"
   ]
  },
  {
   "cell_type": "code",
   "execution_count": 42,
   "id": "5d3145a6-3505-4d75-b81c-fccc28963c06",
   "metadata": {
    "execution": {
     "iopub.execute_input": "2025-04-24T15:28:02.628929Z",
     "iopub.status.busy": "2025-04-24T15:28:02.628421Z",
     "iopub.status.idle": "2025-04-24T15:28:12.708386Z",
     "shell.execute_reply": "2025-04-24T15:28:12.708030Z",
     "shell.execute_reply.started": "2025-04-24T15:28:02.628906Z"
    }
   },
   "outputs": [
    {
     "name": "stdout",
     "output_type": "stream",
     "text": [
      "User Guide: https://docs.kepler.gl/docs/keplergl-jupyter\n"
     ]
    },
    {
     "name": "stderr",
     "output_type": "stream",
     "text": [
      "                                                                                \r"
     ]
    },
    {
     "data": {
      "application/vnd.jupyter.widget-view+json": {
       "model_id": "781437f8d9bd42b3932e34de1d3f619b",
       "version_major": 2,
       "version_minor": 0
      },
      "text/plain": [
       "KeplerGl(data={'Bird observations by state': {'index': [0, 1, 2, 3, 4, 5, 6, 7, 8, 9, 10, 11, 12, 13, 14, 15, …"
      ]
     },
     "execution_count": 42,
     "metadata": {},
     "output_type": "execute_result"
    },
    {
     "name": "stderr",
     "output_type": "stream",
     "text": [
      "25/04/24 15:28:52 WARN ExecutorPodsWatchSnapshotSource: Kubernetes client has been closed.\n"
     ]
    }
   ],
   "source": [
    "SedonaKepler.create_map(final_query, name=\"Bird observations by state\")"
   ]
  },
  {
   "cell_type": "code",
   "execution_count": null,
   "id": "1ac94906-84c5-42ee-bafe-ee7e84d9f03e",
   "metadata": {},
   "outputs": [],
   "source": []
  }
 ],
 "metadata": {
  "kernelspec": {
   "display_name": "Python 3 (ipykernel)",
   "language": "python",
   "name": "python3"
  },
  "language_info": {
   "codemirror_mode": {
    "name": "ipython",
    "version": 3
   },
   "file_extension": ".py",
   "mimetype": "text/x-python",
   "name": "python",
   "nbconvert_exporter": "python",
   "pygments_lexer": "ipython3",
   "version": "3.11.12"
  }
 },
 "nbformat": 4,
 "nbformat_minor": 5
}
